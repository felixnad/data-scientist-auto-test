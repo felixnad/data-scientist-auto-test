{
  "cells": [
    {
      "cell_type": "markdown",
      "metadata": {
        "id": "v8p-lTQWrB5k"
      },
      "source": [
        "# Introduction\n",
        "This notebook show the work done on the AUTO Insurance Dataset. \n",
        "\n",
        "# Plan\n",
        "- Cleaning the Dataset\n",
        "- Visualisation\n",
        "- Prédiction\n",
        "- Explicabilité"
      ]
    },
    {
      "cell_type": "code",
      "execution_count": 116,
      "metadata": {
        "id": "XNBebPoNrB5s"
      },
      "outputs": [],
      "source": [
        "#Import\n",
        "\n",
        "import pandas as pd\n",
        "import sklearn\n",
        "import seaborn as sns\n",
        "import matplotlib.pyplot as plt\n",
        "from sklearn.impute import SimpleImputer\n",
        "from sklearn.feature_selection import SelectKBest\n",
        "from sklearn.feature_selection import f_classif\n",
        "\n",
        "from sklearn.model_selection import cross_validate\n",
        "from sklearn.ensemble import RandomForestClassifier\n",
        "from sklearn.ensemble import HistGradientBoostingClassifier\n",
        "from sklearn.neighbors import KNeighborsClassifier\n",
        "from sklearn.naive_bayes import GaussianNB\n",
        "from sklearn.svm import SVC\n",
        "from sklearn.linear_model import RidgeClassifier\n",
        "from sklearn.linear_model import LogisticRegression\n",
        "\n",
        "import numpy as np\n",
        "import lime\n",
        "from lime import lime_tabular"
      ]
    },
    {
      "cell_type": "code",
      "execution_count": 117,
      "metadata": {
        "id": "2LPsgAgrrB5v"
      },
      "outputs": [],
      "source": [
        "train_dataset = pd.read_csv(r\"data/auto-insurance-fall-2017/train_auto.csv\",\n",
        "    index_col='INDEX',\n",
        "    false_values=['no', 'No', 'NO', 'z_No'],\n",
        "    true_values=['yes', 'Yes', 'YES'],)\n",
        "test_dataset = pd.read_csv(r\"data/auto-insurance-fall-2017/test_auto.csv\",\n",
        "    index_col='INDEX',\n",
        "    false_values=['no', 'No', 'NO', 'z_No'],\n",
        "    true_values=['yes', 'Yes', 'YES'],) \n",
        "    "
      ]
    },
    {
      "cell_type": "code",
      "execution_count": 118,
      "metadata": {
        "colab": {
          "base_uri": "https://localhost:8080/",
          "height": 504
        },
        "id": "jto3RHb1rB5w",
        "outputId": "dca9208f-a26f-45e3-e6fa-7d442dac006b"
      },
      "outputs": [
        {
          "output_type": "execute_result",
          "data": {
            "text/plain": [
              "       TARGET_FLAG  TARGET_AMT  KIDSDRIV   AGE  HOMEKIDS   YOJ    INCOME  \\\n",
              "INDEX                                                                      \n",
              "1                0         0.0         0  60.0         0  11.0   $67,349   \n",
              "2                0         0.0         0  43.0         0  11.0   $91,449   \n",
              "4                0         0.0         0  35.0         1  10.0   $16,039   \n",
              "5                0         0.0         0  51.0         0  14.0       NaN   \n",
              "6                0         0.0         0  50.0         0   NaN  $114,986   \n",
              "\n",
              "       PARENT1  HOME_VAL  MSTATUS  ... BLUEBOOK TIF CAR_TYPE  RED_CAR  \\\n",
              "INDEX                              ...                                  \n",
              "1        False        $0    False  ...  $14,230  11  Minivan     True   \n",
              "2        False  $257,252    False  ...  $14,940   1  Minivan     True   \n",
              "4        False  $124,191     True  ...   $4,010   4    z_SUV    False   \n",
              "5        False  $306,251     True  ...  $15,440   7  Minivan     True   \n",
              "6        False  $243,925     True  ...  $18,000   1    z_SUV    False   \n",
              "\n",
              "      OLDCLAIM CLM_FREQ  REVOKED MVR_PTS  CAR_AGE           URBANICITY  \n",
              "INDEX                                                                   \n",
              "1       $4,461        2    False       3     18.0  Highly Urban/ Urban  \n",
              "2           $0        0    False       0      1.0  Highly Urban/ Urban  \n",
              "4      $38,690        2    False       3     10.0  Highly Urban/ Urban  \n",
              "5           $0        0    False       0      6.0  Highly Urban/ Urban  \n",
              "6      $19,217        2     True       3     17.0  Highly Urban/ Urban  \n",
              "\n",
              "[5 rows x 25 columns]"
            ],
            "text/html": [
              "\n",
              "  <div id=\"df-6aa17f49-6ecd-48b5-868c-2da673c84e65\">\n",
              "    <div class=\"colab-df-container\">\n",
              "      <div>\n",
              "<style scoped>\n",
              "    .dataframe tbody tr th:only-of-type {\n",
              "        vertical-align: middle;\n",
              "    }\n",
              "\n",
              "    .dataframe tbody tr th {\n",
              "        vertical-align: top;\n",
              "    }\n",
              "\n",
              "    .dataframe thead th {\n",
              "        text-align: right;\n",
              "    }\n",
              "</style>\n",
              "<table border=\"1\" class=\"dataframe\">\n",
              "  <thead>\n",
              "    <tr style=\"text-align: right;\">\n",
              "      <th></th>\n",
              "      <th>TARGET_FLAG</th>\n",
              "      <th>TARGET_AMT</th>\n",
              "      <th>KIDSDRIV</th>\n",
              "      <th>AGE</th>\n",
              "      <th>HOMEKIDS</th>\n",
              "      <th>YOJ</th>\n",
              "      <th>INCOME</th>\n",
              "      <th>PARENT1</th>\n",
              "      <th>HOME_VAL</th>\n",
              "      <th>MSTATUS</th>\n",
              "      <th>...</th>\n",
              "      <th>BLUEBOOK</th>\n",
              "      <th>TIF</th>\n",
              "      <th>CAR_TYPE</th>\n",
              "      <th>RED_CAR</th>\n",
              "      <th>OLDCLAIM</th>\n",
              "      <th>CLM_FREQ</th>\n",
              "      <th>REVOKED</th>\n",
              "      <th>MVR_PTS</th>\n",
              "      <th>CAR_AGE</th>\n",
              "      <th>URBANICITY</th>\n",
              "    </tr>\n",
              "    <tr>\n",
              "      <th>INDEX</th>\n",
              "      <th></th>\n",
              "      <th></th>\n",
              "      <th></th>\n",
              "      <th></th>\n",
              "      <th></th>\n",
              "      <th></th>\n",
              "      <th></th>\n",
              "      <th></th>\n",
              "      <th></th>\n",
              "      <th></th>\n",
              "      <th></th>\n",
              "      <th></th>\n",
              "      <th></th>\n",
              "      <th></th>\n",
              "      <th></th>\n",
              "      <th></th>\n",
              "      <th></th>\n",
              "      <th></th>\n",
              "      <th></th>\n",
              "      <th></th>\n",
              "      <th></th>\n",
              "    </tr>\n",
              "  </thead>\n",
              "  <tbody>\n",
              "    <tr>\n",
              "      <th>1</th>\n",
              "      <td>0</td>\n",
              "      <td>0.0</td>\n",
              "      <td>0</td>\n",
              "      <td>60.0</td>\n",
              "      <td>0</td>\n",
              "      <td>11.0</td>\n",
              "      <td>$67,349</td>\n",
              "      <td>False</td>\n",
              "      <td>$0</td>\n",
              "      <td>False</td>\n",
              "      <td>...</td>\n",
              "      <td>$14,230</td>\n",
              "      <td>11</td>\n",
              "      <td>Minivan</td>\n",
              "      <td>True</td>\n",
              "      <td>$4,461</td>\n",
              "      <td>2</td>\n",
              "      <td>False</td>\n",
              "      <td>3</td>\n",
              "      <td>18.0</td>\n",
              "      <td>Highly Urban/ Urban</td>\n",
              "    </tr>\n",
              "    <tr>\n",
              "      <th>2</th>\n",
              "      <td>0</td>\n",
              "      <td>0.0</td>\n",
              "      <td>0</td>\n",
              "      <td>43.0</td>\n",
              "      <td>0</td>\n",
              "      <td>11.0</td>\n",
              "      <td>$91,449</td>\n",
              "      <td>False</td>\n",
              "      <td>$257,252</td>\n",
              "      <td>False</td>\n",
              "      <td>...</td>\n",
              "      <td>$14,940</td>\n",
              "      <td>1</td>\n",
              "      <td>Minivan</td>\n",
              "      <td>True</td>\n",
              "      <td>$0</td>\n",
              "      <td>0</td>\n",
              "      <td>False</td>\n",
              "      <td>0</td>\n",
              "      <td>1.0</td>\n",
              "      <td>Highly Urban/ Urban</td>\n",
              "    </tr>\n",
              "    <tr>\n",
              "      <th>4</th>\n",
              "      <td>0</td>\n",
              "      <td>0.0</td>\n",
              "      <td>0</td>\n",
              "      <td>35.0</td>\n",
              "      <td>1</td>\n",
              "      <td>10.0</td>\n",
              "      <td>$16,039</td>\n",
              "      <td>False</td>\n",
              "      <td>$124,191</td>\n",
              "      <td>True</td>\n",
              "      <td>...</td>\n",
              "      <td>$4,010</td>\n",
              "      <td>4</td>\n",
              "      <td>z_SUV</td>\n",
              "      <td>False</td>\n",
              "      <td>$38,690</td>\n",
              "      <td>2</td>\n",
              "      <td>False</td>\n",
              "      <td>3</td>\n",
              "      <td>10.0</td>\n",
              "      <td>Highly Urban/ Urban</td>\n",
              "    </tr>\n",
              "    <tr>\n",
              "      <th>5</th>\n",
              "      <td>0</td>\n",
              "      <td>0.0</td>\n",
              "      <td>0</td>\n",
              "      <td>51.0</td>\n",
              "      <td>0</td>\n",
              "      <td>14.0</td>\n",
              "      <td>NaN</td>\n",
              "      <td>False</td>\n",
              "      <td>$306,251</td>\n",
              "      <td>True</td>\n",
              "      <td>...</td>\n",
              "      <td>$15,440</td>\n",
              "      <td>7</td>\n",
              "      <td>Minivan</td>\n",
              "      <td>True</td>\n",
              "      <td>$0</td>\n",
              "      <td>0</td>\n",
              "      <td>False</td>\n",
              "      <td>0</td>\n",
              "      <td>6.0</td>\n",
              "      <td>Highly Urban/ Urban</td>\n",
              "    </tr>\n",
              "    <tr>\n",
              "      <th>6</th>\n",
              "      <td>0</td>\n",
              "      <td>0.0</td>\n",
              "      <td>0</td>\n",
              "      <td>50.0</td>\n",
              "      <td>0</td>\n",
              "      <td>NaN</td>\n",
              "      <td>$114,986</td>\n",
              "      <td>False</td>\n",
              "      <td>$243,925</td>\n",
              "      <td>True</td>\n",
              "      <td>...</td>\n",
              "      <td>$18,000</td>\n",
              "      <td>1</td>\n",
              "      <td>z_SUV</td>\n",
              "      <td>False</td>\n",
              "      <td>$19,217</td>\n",
              "      <td>2</td>\n",
              "      <td>True</td>\n",
              "      <td>3</td>\n",
              "      <td>17.0</td>\n",
              "      <td>Highly Urban/ Urban</td>\n",
              "    </tr>\n",
              "  </tbody>\n",
              "</table>\n",
              "<p>5 rows × 25 columns</p>\n",
              "</div>\n",
              "      <button class=\"colab-df-convert\" onclick=\"convertToInteractive('df-6aa17f49-6ecd-48b5-868c-2da673c84e65')\"\n",
              "              title=\"Convert this dataframe to an interactive table.\"\n",
              "              style=\"display:none;\">\n",
              "        \n",
              "  <svg xmlns=\"http://www.w3.org/2000/svg\" height=\"24px\"viewBox=\"0 0 24 24\"\n",
              "       width=\"24px\">\n",
              "    <path d=\"M0 0h24v24H0V0z\" fill=\"none\"/>\n",
              "    <path d=\"M18.56 5.44l.94 2.06.94-2.06 2.06-.94-2.06-.94-.94-2.06-.94 2.06-2.06.94zm-11 1L8.5 8.5l.94-2.06 2.06-.94-2.06-.94L8.5 2.5l-.94 2.06-2.06.94zm10 10l.94 2.06.94-2.06 2.06-.94-2.06-.94-.94-2.06-.94 2.06-2.06.94z\"/><path d=\"M17.41 7.96l-1.37-1.37c-.4-.4-.92-.59-1.43-.59-.52 0-1.04.2-1.43.59L10.3 9.45l-7.72 7.72c-.78.78-.78 2.05 0 2.83L4 21.41c.39.39.9.59 1.41.59.51 0 1.02-.2 1.41-.59l7.78-7.78 2.81-2.81c.8-.78.8-2.07 0-2.86zM5.41 20L4 18.59l7.72-7.72 1.47 1.35L5.41 20z\"/>\n",
              "  </svg>\n",
              "      </button>\n",
              "      \n",
              "  <style>\n",
              "    .colab-df-container {\n",
              "      display:flex;\n",
              "      flex-wrap:wrap;\n",
              "      gap: 12px;\n",
              "    }\n",
              "\n",
              "    .colab-df-convert {\n",
              "      background-color: #E8F0FE;\n",
              "      border: none;\n",
              "      border-radius: 50%;\n",
              "      cursor: pointer;\n",
              "      display: none;\n",
              "      fill: #1967D2;\n",
              "      height: 32px;\n",
              "      padding: 0 0 0 0;\n",
              "      width: 32px;\n",
              "    }\n",
              "\n",
              "    .colab-df-convert:hover {\n",
              "      background-color: #E2EBFA;\n",
              "      box-shadow: 0px 1px 2px rgba(60, 64, 67, 0.3), 0px 1px 3px 1px rgba(60, 64, 67, 0.15);\n",
              "      fill: #174EA6;\n",
              "    }\n",
              "\n",
              "    [theme=dark] .colab-df-convert {\n",
              "      background-color: #3B4455;\n",
              "      fill: #D2E3FC;\n",
              "    }\n",
              "\n",
              "    [theme=dark] .colab-df-convert:hover {\n",
              "      background-color: #434B5C;\n",
              "      box-shadow: 0px 1px 3px 1px rgba(0, 0, 0, 0.15);\n",
              "      filter: drop-shadow(0px 1px 2px rgba(0, 0, 0, 0.3));\n",
              "      fill: #FFFFFF;\n",
              "    }\n",
              "  </style>\n",
              "\n",
              "      <script>\n",
              "        const buttonEl =\n",
              "          document.querySelector('#df-6aa17f49-6ecd-48b5-868c-2da673c84e65 button.colab-df-convert');\n",
              "        buttonEl.style.display =\n",
              "          google.colab.kernel.accessAllowed ? 'block' : 'none';\n",
              "\n",
              "        async function convertToInteractive(key) {\n",
              "          const element = document.querySelector('#df-6aa17f49-6ecd-48b5-868c-2da673c84e65');\n",
              "          const dataTable =\n",
              "            await google.colab.kernel.invokeFunction('convertToInteractive',\n",
              "                                                     [key], {});\n",
              "          if (!dataTable) return;\n",
              "\n",
              "          const docLinkHtml = 'Like what you see? Visit the ' +\n",
              "            '<a target=\"_blank\" href=https://colab.research.google.com/notebooks/data_table.ipynb>data table notebook</a>'\n",
              "            + ' to learn more about interactive tables.';\n",
              "          element.innerHTML = '';\n",
              "          dataTable['output_type'] = 'display_data';\n",
              "          await google.colab.output.renderOutput(dataTable, element);\n",
              "          const docLink = document.createElement('div');\n",
              "          docLink.innerHTML = docLinkHtml;\n",
              "          element.appendChild(docLink);\n",
              "        }\n",
              "      </script>\n",
              "    </div>\n",
              "  </div>\n",
              "  "
            ]
          },
          "metadata": {},
          "execution_count": 118
        }
      ],
      "source": [
        "train_dataset.head()"
      ]
    },
    {
      "cell_type": "code",
      "execution_count": 119,
      "metadata": {
        "colab": {
          "base_uri": "https://localhost:8080/"
        },
        "id": "7qxH2qNvrB5x",
        "outputId": "f9d65ee3-4ebb-434d-8e36-9c6a51e55d98"
      },
      "outputs": [
        {
          "output_type": "stream",
          "name": "stderr",
          "text": [
            "The default value of regex will change from True to False in a future version. In addition, single character regular expressions will *not* be treated as literal strings when regex=True.\n",
            "The default value of regex will change from True to False in a future version. In addition, single character regular expressions will *not* be treated as literal strings when regex=True.\n"
          ]
        }
      ],
      "source": [
        "for caracter in [\"$\",\"z_\",\",\"]:\n",
        "    train_dataset = train_dataset.apply(lambda x: x.str.replace(caracter, '') if x.dtype == object else x)\n",
        "    test_dataset = test_dataset.apply(lambda x: x.str.replace(caracter, '') if x.dtype == object else x)"
      ]
    },
    {
      "cell_type": "code",
      "execution_count": 120,
      "metadata": {
        "id": "Mk-MnSEprB5y"
      },
      "outputs": [],
      "source": [
        "# We change the features as a str with a dollar sign as a string to a float.\n",
        "dollar_features = [\"INCOME\", \"HOME_VAL\", \"BLUEBOOK\", \"OLDCLAIM\"]\n",
        "train_dataset[dollar_features]=train_dataset[dollar_features].astype('float')\n",
        "test_dataset[dollar_features]=test_dataset[dollar_features].astype('float')\n",
        "\n",
        "categorical_features = [\"SEX\",\"EDUCATION\",\"JOB\",\"CAR_USE\",\"CAR_TYPE\",\"URBANICITY\"]\n",
        "train_dataset[categorical_features]=train_dataset[categorical_features].astype('category')\n",
        "test_dataset[categorical_features]=test_dataset[categorical_features].astype('category')\n",
        "\n"
      ]
    },
    {
      "cell_type": "code",
      "execution_count": 121,
      "metadata": {
        "colab": {
          "base_uri": "https://localhost:8080/"
        },
        "id": "Xj0MockprB5z",
        "outputId": "9889fa46-bb8e-4203-d804-ddbb634df371"
      },
      "outputs": [
        {
          "output_type": "stream",
          "name": "stdout",
          "text": [
            "<class 'pandas.core.frame.DataFrame'>\n",
            "Int64Index: 8161 entries, 1 to 10302\n",
            "Data columns (total 25 columns):\n",
            " #   Column       Non-Null Count  Dtype   \n",
            "---  ------       --------------  -----   \n",
            " 0   TARGET_FLAG  8161 non-null   int64   \n",
            " 1   TARGET_AMT   8161 non-null   float64 \n",
            " 2   KIDSDRIV     8161 non-null   int64   \n",
            " 3   AGE          8155 non-null   float64 \n",
            " 4   HOMEKIDS     8161 non-null   int64   \n",
            " 5   YOJ          7707 non-null   float64 \n",
            " 6   INCOME       7716 non-null   float64 \n",
            " 7   PARENT1      8161 non-null   bool    \n",
            " 8   HOME_VAL     7697 non-null   float64 \n",
            " 9   MSTATUS      8161 non-null   bool    \n",
            " 10  SEX          8161 non-null   category\n",
            " 11  EDUCATION    8161 non-null   category\n",
            " 12  JOB          7635 non-null   category\n",
            " 13  TRAVTIME     8161 non-null   int64   \n",
            " 14  CAR_USE      8161 non-null   category\n",
            " 15  BLUEBOOK     8161 non-null   float64 \n",
            " 16  TIF          8161 non-null   int64   \n",
            " 17  CAR_TYPE     8161 non-null   category\n",
            " 18  RED_CAR      8161 non-null   bool    \n",
            " 19  OLDCLAIM     8161 non-null   float64 \n",
            " 20  CLM_FREQ     8161 non-null   int64   \n",
            " 21  REVOKED      8161 non-null   bool    \n",
            " 22  MVR_PTS      8161 non-null   int64   \n",
            " 23  CAR_AGE      7651 non-null   float64 \n",
            " 24  URBANICITY   8161 non-null   category\n",
            "dtypes: bool(4), category(6), float64(8), int64(7)\n",
            "memory usage: 1.1 MB\n"
          ]
        }
      ],
      "source": [
        "train_dataset.info()"
      ]
    },
    {
      "cell_type": "code",
      "execution_count": 122,
      "metadata": {
        "colab": {
          "base_uri": "https://localhost:8080/",
          "height": 364
        },
        "id": "eCj3cea7rB50",
        "outputId": "cf33fe20-a66c-4823-da3d-28e7a4ae60f7"
      },
      "outputs": [
        {
          "output_type": "execute_result",
          "data": {
            "text/plain": [
              "       TARGET_FLAG     TARGET_AMT     KIDSDRIV          AGE     HOMEKIDS  \\\n",
              "count  8161.000000    8161.000000  8161.000000  8155.000000  8161.000000   \n",
              "mean      0.263816    1504.324648     0.171057    44.790313     0.721235   \n",
              "std       0.440728    4704.026930     0.511534     8.627589     1.116323   \n",
              "min       0.000000       0.000000     0.000000    16.000000     0.000000   \n",
              "25%       0.000000       0.000000     0.000000    39.000000     0.000000   \n",
              "50%       0.000000       0.000000     0.000000    45.000000     0.000000   \n",
              "75%       1.000000    1036.000000     0.000000    51.000000     1.000000   \n",
              "max       1.000000  107586.136160     4.000000    81.000000     5.000000   \n",
              "\n",
              "               YOJ         INCOME       HOME_VAL     TRAVTIME      BLUEBOOK  \\\n",
              "count  7707.000000    7716.000000    7697.000000  8161.000000   8161.000000   \n",
              "mean     10.499286   61898.094609  154867.289723    33.485725  15709.899522   \n",
              "std       4.092474   47572.682808  129123.774574    15.908333   8419.734075   \n",
              "min       0.000000       0.000000       0.000000     5.000000   1500.000000   \n",
              "25%       9.000000   28097.000000       0.000000    22.000000   9280.000000   \n",
              "50%      11.000000   54028.000000  161160.000000    33.000000  14440.000000   \n",
              "75%      13.000000   85986.000000  238724.000000    44.000000  20850.000000   \n",
              "max      23.000000  367030.000000  885282.000000   142.000000  69740.000000   \n",
              "\n",
              "               TIF      OLDCLAIM     CLM_FREQ      MVR_PTS      CAR_AGE  \n",
              "count  8161.000000   8161.000000  8161.000000  8161.000000  7651.000000  \n",
              "mean      5.351305   4037.076216     0.798554     1.695503     8.328323  \n",
              "std       4.146635   8777.139104     1.158453     2.147112     5.700742  \n",
              "min       1.000000      0.000000     0.000000     0.000000    -3.000000  \n",
              "25%       1.000000      0.000000     0.000000     0.000000     1.000000  \n",
              "50%       4.000000      0.000000     0.000000     1.000000     8.000000  \n",
              "75%       7.000000   4636.000000     2.000000     3.000000    12.000000  \n",
              "max      25.000000  57037.000000     5.000000    13.000000    28.000000  "
            ],
            "text/html": [
              "\n",
              "  <div id=\"df-38f1f19c-87a0-4a67-b3e4-cd06691df2fe\">\n",
              "    <div class=\"colab-df-container\">\n",
              "      <div>\n",
              "<style scoped>\n",
              "    .dataframe tbody tr th:only-of-type {\n",
              "        vertical-align: middle;\n",
              "    }\n",
              "\n",
              "    .dataframe tbody tr th {\n",
              "        vertical-align: top;\n",
              "    }\n",
              "\n",
              "    .dataframe thead th {\n",
              "        text-align: right;\n",
              "    }\n",
              "</style>\n",
              "<table border=\"1\" class=\"dataframe\">\n",
              "  <thead>\n",
              "    <tr style=\"text-align: right;\">\n",
              "      <th></th>\n",
              "      <th>TARGET_FLAG</th>\n",
              "      <th>TARGET_AMT</th>\n",
              "      <th>KIDSDRIV</th>\n",
              "      <th>AGE</th>\n",
              "      <th>HOMEKIDS</th>\n",
              "      <th>YOJ</th>\n",
              "      <th>INCOME</th>\n",
              "      <th>HOME_VAL</th>\n",
              "      <th>TRAVTIME</th>\n",
              "      <th>BLUEBOOK</th>\n",
              "      <th>TIF</th>\n",
              "      <th>OLDCLAIM</th>\n",
              "      <th>CLM_FREQ</th>\n",
              "      <th>MVR_PTS</th>\n",
              "      <th>CAR_AGE</th>\n",
              "    </tr>\n",
              "  </thead>\n",
              "  <tbody>\n",
              "    <tr>\n",
              "      <th>count</th>\n",
              "      <td>8161.000000</td>\n",
              "      <td>8161.000000</td>\n",
              "      <td>8161.000000</td>\n",
              "      <td>8155.000000</td>\n",
              "      <td>8161.000000</td>\n",
              "      <td>7707.000000</td>\n",
              "      <td>7716.000000</td>\n",
              "      <td>7697.000000</td>\n",
              "      <td>8161.000000</td>\n",
              "      <td>8161.000000</td>\n",
              "      <td>8161.000000</td>\n",
              "      <td>8161.000000</td>\n",
              "      <td>8161.000000</td>\n",
              "      <td>8161.000000</td>\n",
              "      <td>7651.000000</td>\n",
              "    </tr>\n",
              "    <tr>\n",
              "      <th>mean</th>\n",
              "      <td>0.263816</td>\n",
              "      <td>1504.324648</td>\n",
              "      <td>0.171057</td>\n",
              "      <td>44.790313</td>\n",
              "      <td>0.721235</td>\n",
              "      <td>10.499286</td>\n",
              "      <td>61898.094609</td>\n",
              "      <td>154867.289723</td>\n",
              "      <td>33.485725</td>\n",
              "      <td>15709.899522</td>\n",
              "      <td>5.351305</td>\n",
              "      <td>4037.076216</td>\n",
              "      <td>0.798554</td>\n",
              "      <td>1.695503</td>\n",
              "      <td>8.328323</td>\n",
              "    </tr>\n",
              "    <tr>\n",
              "      <th>std</th>\n",
              "      <td>0.440728</td>\n",
              "      <td>4704.026930</td>\n",
              "      <td>0.511534</td>\n",
              "      <td>8.627589</td>\n",
              "      <td>1.116323</td>\n",
              "      <td>4.092474</td>\n",
              "      <td>47572.682808</td>\n",
              "      <td>129123.774574</td>\n",
              "      <td>15.908333</td>\n",
              "      <td>8419.734075</td>\n",
              "      <td>4.146635</td>\n",
              "      <td>8777.139104</td>\n",
              "      <td>1.158453</td>\n",
              "      <td>2.147112</td>\n",
              "      <td>5.700742</td>\n",
              "    </tr>\n",
              "    <tr>\n",
              "      <th>min</th>\n",
              "      <td>0.000000</td>\n",
              "      <td>0.000000</td>\n",
              "      <td>0.000000</td>\n",
              "      <td>16.000000</td>\n",
              "      <td>0.000000</td>\n",
              "      <td>0.000000</td>\n",
              "      <td>0.000000</td>\n",
              "      <td>0.000000</td>\n",
              "      <td>5.000000</td>\n",
              "      <td>1500.000000</td>\n",
              "      <td>1.000000</td>\n",
              "      <td>0.000000</td>\n",
              "      <td>0.000000</td>\n",
              "      <td>0.000000</td>\n",
              "      <td>-3.000000</td>\n",
              "    </tr>\n",
              "    <tr>\n",
              "      <th>25%</th>\n",
              "      <td>0.000000</td>\n",
              "      <td>0.000000</td>\n",
              "      <td>0.000000</td>\n",
              "      <td>39.000000</td>\n",
              "      <td>0.000000</td>\n",
              "      <td>9.000000</td>\n",
              "      <td>28097.000000</td>\n",
              "      <td>0.000000</td>\n",
              "      <td>22.000000</td>\n",
              "      <td>9280.000000</td>\n",
              "      <td>1.000000</td>\n",
              "      <td>0.000000</td>\n",
              "      <td>0.000000</td>\n",
              "      <td>0.000000</td>\n",
              "      <td>1.000000</td>\n",
              "    </tr>\n",
              "    <tr>\n",
              "      <th>50%</th>\n",
              "      <td>0.000000</td>\n",
              "      <td>0.000000</td>\n",
              "      <td>0.000000</td>\n",
              "      <td>45.000000</td>\n",
              "      <td>0.000000</td>\n",
              "      <td>11.000000</td>\n",
              "      <td>54028.000000</td>\n",
              "      <td>161160.000000</td>\n",
              "      <td>33.000000</td>\n",
              "      <td>14440.000000</td>\n",
              "      <td>4.000000</td>\n",
              "      <td>0.000000</td>\n",
              "      <td>0.000000</td>\n",
              "      <td>1.000000</td>\n",
              "      <td>8.000000</td>\n",
              "    </tr>\n",
              "    <tr>\n",
              "      <th>75%</th>\n",
              "      <td>1.000000</td>\n",
              "      <td>1036.000000</td>\n",
              "      <td>0.000000</td>\n",
              "      <td>51.000000</td>\n",
              "      <td>1.000000</td>\n",
              "      <td>13.000000</td>\n",
              "      <td>85986.000000</td>\n",
              "      <td>238724.000000</td>\n",
              "      <td>44.000000</td>\n",
              "      <td>20850.000000</td>\n",
              "      <td>7.000000</td>\n",
              "      <td>4636.000000</td>\n",
              "      <td>2.000000</td>\n",
              "      <td>3.000000</td>\n",
              "      <td>12.000000</td>\n",
              "    </tr>\n",
              "    <tr>\n",
              "      <th>max</th>\n",
              "      <td>1.000000</td>\n",
              "      <td>107586.136160</td>\n",
              "      <td>4.000000</td>\n",
              "      <td>81.000000</td>\n",
              "      <td>5.000000</td>\n",
              "      <td>23.000000</td>\n",
              "      <td>367030.000000</td>\n",
              "      <td>885282.000000</td>\n",
              "      <td>142.000000</td>\n",
              "      <td>69740.000000</td>\n",
              "      <td>25.000000</td>\n",
              "      <td>57037.000000</td>\n",
              "      <td>5.000000</td>\n",
              "      <td>13.000000</td>\n",
              "      <td>28.000000</td>\n",
              "    </tr>\n",
              "  </tbody>\n",
              "</table>\n",
              "</div>\n",
              "      <button class=\"colab-df-convert\" onclick=\"convertToInteractive('df-38f1f19c-87a0-4a67-b3e4-cd06691df2fe')\"\n",
              "              title=\"Convert this dataframe to an interactive table.\"\n",
              "              style=\"display:none;\">\n",
              "        \n",
              "  <svg xmlns=\"http://www.w3.org/2000/svg\" height=\"24px\"viewBox=\"0 0 24 24\"\n",
              "       width=\"24px\">\n",
              "    <path d=\"M0 0h24v24H0V0z\" fill=\"none\"/>\n",
              "    <path d=\"M18.56 5.44l.94 2.06.94-2.06 2.06-.94-2.06-.94-.94-2.06-.94 2.06-2.06.94zm-11 1L8.5 8.5l.94-2.06 2.06-.94-2.06-.94L8.5 2.5l-.94 2.06-2.06.94zm10 10l.94 2.06.94-2.06 2.06-.94-2.06-.94-.94-2.06-.94 2.06-2.06.94z\"/><path d=\"M17.41 7.96l-1.37-1.37c-.4-.4-.92-.59-1.43-.59-.52 0-1.04.2-1.43.59L10.3 9.45l-7.72 7.72c-.78.78-.78 2.05 0 2.83L4 21.41c.39.39.9.59 1.41.59.51 0 1.02-.2 1.41-.59l7.78-7.78 2.81-2.81c.8-.78.8-2.07 0-2.86zM5.41 20L4 18.59l7.72-7.72 1.47 1.35L5.41 20z\"/>\n",
              "  </svg>\n",
              "      </button>\n",
              "      \n",
              "  <style>\n",
              "    .colab-df-container {\n",
              "      display:flex;\n",
              "      flex-wrap:wrap;\n",
              "      gap: 12px;\n",
              "    }\n",
              "\n",
              "    .colab-df-convert {\n",
              "      background-color: #E8F0FE;\n",
              "      border: none;\n",
              "      border-radius: 50%;\n",
              "      cursor: pointer;\n",
              "      display: none;\n",
              "      fill: #1967D2;\n",
              "      height: 32px;\n",
              "      padding: 0 0 0 0;\n",
              "      width: 32px;\n",
              "    }\n",
              "\n",
              "    .colab-df-convert:hover {\n",
              "      background-color: #E2EBFA;\n",
              "      box-shadow: 0px 1px 2px rgba(60, 64, 67, 0.3), 0px 1px 3px 1px rgba(60, 64, 67, 0.15);\n",
              "      fill: #174EA6;\n",
              "    }\n",
              "\n",
              "    [theme=dark] .colab-df-convert {\n",
              "      background-color: #3B4455;\n",
              "      fill: #D2E3FC;\n",
              "    }\n",
              "\n",
              "    [theme=dark] .colab-df-convert:hover {\n",
              "      background-color: #434B5C;\n",
              "      box-shadow: 0px 1px 3px 1px rgba(0, 0, 0, 0.15);\n",
              "      filter: drop-shadow(0px 1px 2px rgba(0, 0, 0, 0.3));\n",
              "      fill: #FFFFFF;\n",
              "    }\n",
              "  </style>\n",
              "\n",
              "      <script>\n",
              "        const buttonEl =\n",
              "          document.querySelector('#df-38f1f19c-87a0-4a67-b3e4-cd06691df2fe button.colab-df-convert');\n",
              "        buttonEl.style.display =\n",
              "          google.colab.kernel.accessAllowed ? 'block' : 'none';\n",
              "\n",
              "        async function convertToInteractive(key) {\n",
              "          const element = document.querySelector('#df-38f1f19c-87a0-4a67-b3e4-cd06691df2fe');\n",
              "          const dataTable =\n",
              "            await google.colab.kernel.invokeFunction('convertToInteractive',\n",
              "                                                     [key], {});\n",
              "          if (!dataTable) return;\n",
              "\n",
              "          const docLinkHtml = 'Like what you see? Visit the ' +\n",
              "            '<a target=\"_blank\" href=https://colab.research.google.com/notebooks/data_table.ipynb>data table notebook</a>'\n",
              "            + ' to learn more about interactive tables.';\n",
              "          element.innerHTML = '';\n",
              "          dataTable['output_type'] = 'display_data';\n",
              "          await google.colab.output.renderOutput(dataTable, element);\n",
              "          const docLink = document.createElement('div');\n",
              "          docLink.innerHTML = docLinkHtml;\n",
              "          element.appendChild(docLink);\n",
              "        }\n",
              "      </script>\n",
              "    </div>\n",
              "  </div>\n",
              "  "
            ]
          },
          "metadata": {},
          "execution_count": 122
        }
      ],
      "source": [
        "train_dataset.describe()"
      ]
    },
    {
      "cell_type": "markdown",
      "metadata": {
        "id": "QX75khtsrB51"
      },
      "source": [
        "The value \"CAR_AGE\" has a negative minimum (-3).  "
      ]
    },
    {
      "cell_type": "markdown",
      "metadata": {
        "id": "v9XZ9PsprB53"
      },
      "source": [
        "## Dealing with categorical features"
      ]
    },
    {
      "cell_type": "code",
      "execution_count": 123,
      "metadata": {
        "id": "CuW83Zt-rB55"
      },
      "outputs": [],
      "source": [
        "features = list(train_dataset.columns)\n",
        "target = \"TARGET_FLAG\"\n",
        "features.remove(target)\n",
        "features.remove(\"TARGET_AMT\")\n",
        "numerical_features = [feat for feat in features if not feat in categorical_features]\n",
        "# We check that all the data have a value for TARGET_FLAG.\n",
        "assert train_dataset[target].isna().sum() ==0 \n",
        "labels = train_dataset[target]\n",
        "train_dataset=train_dataset[features]\n",
        "test_dataset = test_dataset[features]\n"
      ]
    },
    {
      "cell_type": "code",
      "source": [
        "train_dataset= pd.get_dummies(train_dataset)\n",
        "train_dataset = train_dataset *1.0\n",
        "train_dataset.info()\n",
        "\n",
        "test_dataset = pd.get_dummies(test_dataset)\n",
        "test_dataset = test_dataset *1.0"
      ],
      "metadata": {
        "colab": {
          "base_uri": "https://localhost:8080/"
        },
        "id": "UYBmCac-2oC6",
        "outputId": "7edf7d14-1269-4fc4-a14e-ffc565c4db0d"
      },
      "execution_count": 124,
      "outputs": [
        {
          "output_type": "stream",
          "name": "stdout",
          "text": [
            "<class 'pandas.core.frame.DataFrame'>\n",
            "Int64Index: 8161 entries, 1 to 10302\n",
            "Data columns (total 42 columns):\n",
            " #   Column                          Non-Null Count  Dtype  \n",
            "---  ------                          --------------  -----  \n",
            " 0   KIDSDRIV                        8161 non-null   float64\n",
            " 1   AGE                             8155 non-null   float64\n",
            " 2   HOMEKIDS                        8161 non-null   float64\n",
            " 3   YOJ                             7707 non-null   float64\n",
            " 4   INCOME                          7716 non-null   float64\n",
            " 5   PARENT1                         8161 non-null   float64\n",
            " 6   HOME_VAL                        7697 non-null   float64\n",
            " 7   MSTATUS                         8161 non-null   float64\n",
            " 8   TRAVTIME                        8161 non-null   float64\n",
            " 9   BLUEBOOK                        8161 non-null   float64\n",
            " 10  TIF                             8161 non-null   float64\n",
            " 11  RED_CAR                         8161 non-null   float64\n",
            " 12  OLDCLAIM                        8161 non-null   float64\n",
            " 13  CLM_FREQ                        8161 non-null   float64\n",
            " 14  REVOKED                         8161 non-null   float64\n",
            " 15  MVR_PTS                         8161 non-null   float64\n",
            " 16  CAR_AGE                         7651 non-null   float64\n",
            " 17  SEX_F                           8161 non-null   float64\n",
            " 18  SEX_M                           8161 non-null   float64\n",
            " 19  EDUCATION_<High School          8161 non-null   float64\n",
            " 20  EDUCATION_Bachelors             8161 non-null   float64\n",
            " 21  EDUCATION_High School           8161 non-null   float64\n",
            " 22  EDUCATION_Masters               8161 non-null   float64\n",
            " 23  EDUCATION_PhD                   8161 non-null   float64\n",
            " 24  JOB_Blue Collar                 8161 non-null   float64\n",
            " 25  JOB_Clerical                    8161 non-null   float64\n",
            " 26  JOB_Doctor                      8161 non-null   float64\n",
            " 27  JOB_Home Maker                  8161 non-null   float64\n",
            " 28  JOB_Lawyer                      8161 non-null   float64\n",
            " 29  JOB_Manager                     8161 non-null   float64\n",
            " 30  JOB_Professional                8161 non-null   float64\n",
            " 31  JOB_Student                     8161 non-null   float64\n",
            " 32  CAR_USE_Commercial              8161 non-null   float64\n",
            " 33  CAR_USE_Private                 8161 non-null   float64\n",
            " 34  CAR_TYPE_Minivan                8161 non-null   float64\n",
            " 35  CAR_TYPE_Panel Truck            8161 non-null   float64\n",
            " 36  CAR_TYPE_Pickup                 8161 non-null   float64\n",
            " 37  CAR_TYPE_SUV                    8161 non-null   float64\n",
            " 38  CAR_TYPE_Sports Car             8161 non-null   float64\n",
            " 39  CAR_TYPE_Van                    8161 non-null   float64\n",
            " 40  URBANICITY_Highly Rural/ Rural  8161 non-null   float64\n",
            " 41  URBANICITY_Highly Urban/ Urban  8161 non-null   float64\n",
            "dtypes: float64(42)\n",
            "memory usage: 2.7 MB\n"
          ]
        }
      ]
    },
    {
      "cell_type": "markdown",
      "metadata": {
        "id": "AqpHmeKkrB56"
      },
      "source": [
        "## Dealing with empty values"
      ]
    },
    {
      "cell_type": "code",
      "execution_count": 125,
      "metadata": {
        "colab": {
          "base_uri": "https://localhost:8080/"
        },
        "id": "yS0sFCg6rB57",
        "outputId": "005d01cb-c14f-49bc-a7fb-daef5fc60643"
      },
      "outputs": [
        {
          "output_type": "stream",
          "name": "stdout",
          "text": [
            "There are 0.5481937904435148 % of empty values in the dataframe\n",
            "There are 20.990074745741943 % of rows with empty values\n"
          ]
        }
      ],
      "source": [
        "percentage_of_empty_values= (train_dataset.isnull().sum().sum())/train_dataset.size *100\n",
        "print(f\"There are {percentage_of_empty_values} % of empty values in the dataframe\")\n",
        "percentage_of_rows_with_empty_values = (train_dataset.shape[0] - train_dataset.dropna().shape[0])/ train_dataset.shape[0] *100\n",
        "print(f\"There are {percentage_of_rows_with_empty_values} % of rows with empty values\")"
      ]
    },
    {
      "cell_type": "markdown",
      "metadata": {
        "id": "6igghskPrB58"
      },
      "source": [
        "This is a too important pourcentage to just drop these rows. We use a implementer to deal with it :"
      ]
    },
    {
      "cell_type": "code",
      "execution_count": 126,
      "metadata": {
        "id": "t1qw6BGarB58"
      },
      "outputs": [],
      "source": [
        "# This imputer strategy deals with both categorical and numerical empty values.\n",
        "imputer = SimpleImputer(strategy='most_frequent')\n",
        "train_dataset_full= imputer.fit_transform(train_dataset,labels)\n",
        "train_dataset= pd.DataFrame(train_dataset_full,columns=train_dataset.columns)"
      ]
    },
    {
      "cell_type": "code",
      "execution_count": 127,
      "metadata": {
        "colab": {
          "base_uri": "https://localhost:8080/"
        },
        "id": "YuhshauorB59",
        "outputId": "e8b8eaa7-7970-4ea7-efc7-1b23ab56e1ae"
      },
      "outputs": [
        {
          "output_type": "stream",
          "name": "stdout",
          "text": [
            "There are 0.0 % of empty values in the dataframe\n"
          ]
        }
      ],
      "source": [
        "# Check that there are no empty datas left\n",
        "percentage_of_empty_values= (train_dataset.isnull().sum().sum())/train_dataset.size *100\n",
        "print(f\"There are {percentage_of_empty_values} % of empty values in the dataframe\")"
      ]
    },
    {
      "cell_type": "code",
      "source": [
        "features = train_dataset.columns"
      ],
      "metadata": {
        "id": "DeBNb1ZL09F7"
      },
      "execution_count": 128,
      "outputs": []
    },
    {
      "cell_type": "markdown",
      "metadata": {
        "id": "w0wQEYbjrB59"
      },
      "source": [
        "## Visualization of the data"
      ]
    },
    {
      "cell_type": "code",
      "execution_count": 129,
      "metadata": {
        "colab": {
          "base_uri": "https://localhost:8080/",
          "height": 1000
        },
        "id": "1FrG21X8rB5-",
        "outputId": "7cb1514e-cfb5-4727-d9b6-81824932f4c2"
      },
      "outputs": [
        {
          "output_type": "execute_result",
          "data": {
            "text/plain": [
              "<matplotlib.axes._subplots.AxesSubplot at 0x7f35cd000090>"
            ]
          },
          "metadata": {},
          "execution_count": 129
        },
        {
          "output_type": "display_data",
          "data": {
            "text/plain": [
              "<Figure size 1296x1152 with 2 Axes>"
            ],
            "image/png": "[encoded data removed]"
          },
          "metadata": {
            "needs_background": "light"
          }
        }
      ],
      "source": [
        "plt.figure(figsize=(18,16))\n",
        "sns.heatmap(train_dataset.corr(),annot=False)"
      ]
    },
    {
      "cell_type": "markdown",
      "metadata": {
        "id": "_Naa3j-xrB5-"
      },
      "source": [
        "# Training the model"
      ]
    },
    {
      "cell_type": "markdown",
      "metadata": {
        "id": "VMur5wOSrB6B"
      },
      "source": [
        "## Best Model Evaluation"
      ]
    },
    {
      "cell_type": "code",
      "execution_count": 130,
      "metadata": {
        "id": "pTET7R5BrB6B"
      },
      "outputs": [],
      "source": [
        "metrics = [\"accuracy\",\"recall\",\"f1\",\"precision\"]"
      ]
    },
    {
      "cell_type": "code",
      "execution_count": 131,
      "metadata": {
        "colab": {
          "base_uri": "https://localhost:8080/"
        },
        "id": "dSbov4qsrB6C",
        "outputId": "7d3435ba-c4f4-4990-a6a5-c834d9ea9821"
      },
      "outputs": [
        {
          "output_type": "execute_result",
          "data": {
            "text/plain": [
              "fit_time          0.980422\n",
              "score_time        0.054144\n",
              "test_accuracy     0.784219\n",
              "test_recall       0.316335\n",
              "test_f1           0.435437\n",
              "test_precision    0.701945\n",
              "dtype: float64"
            ]
          },
          "metadata": {},
          "execution_count": 131
        }
      ],
      "source": [
        "# Try random Forest Classifier\n",
        "model = RandomForestClassifier(n_estimators=100,max_depth=10)\n",
        "\n",
        "scores = cross_validate(model, train_dataset,labels,cv=5,scoring = metrics)\n",
        "scores = pd.DataFrame(scores).mean()\n",
        "scores"
      ]
    },
    {
      "cell_type": "markdown",
      "metadata": {
        "id": "6ijlmgtMrB6C"
      },
      "source": [
        "We see that the recall is quite low. "
      ]
    },
    {
      "cell_type": "code",
      "execution_count": 132,
      "metadata": {
        "colab": {
          "base_uri": "https://localhost:8080/"
        },
        "id": "eYFwZ6R1rB6D",
        "outputId": "cc70cef8-c9b1-4108-e0fa-c20f571fe7c4"
      },
      "outputs": [
        {
          "output_type": "stream",
          "name": "stderr",
          "text": [
            "Precision is ill-defined and being set to 0.0 due to no predicted samples. Use `zero_division` parameter to control this behavior.\n",
            "Precision is ill-defined and being set to 0.0 due to no predicted samples. Use `zero_division` parameter to control this behavior.\n",
            "Precision is ill-defined and being set to 0.0 due to no predicted samples. Use `zero_division` parameter to control this behavior.\n",
            "Precision is ill-defined and being set to 0.0 due to no predicted samples. Use `zero_division` parameter to control this behavior.\n",
            "Precision is ill-defined and being set to 0.0 due to no predicted samples. Use `zero_division` parameter to control this behavior.\n"
          ]
        },
        {
          "output_type": "execute_result",
          "data": {
            "text/plain": [
              "fit_time          2.901907\n",
              "score_time        0.686125\n",
              "test_accuracy     0.736184\n",
              "test_recall       0.000000\n",
              "test_f1           0.000000\n",
              "test_precision    0.000000\n",
              "dtype: float64"
            ]
          },
          "metadata": {},
          "execution_count": 132
        }
      ],
      "source": [
        "# Try with SVC\n",
        "model = SVC()\n",
        "\n",
        "scores = cross_validate(model, train_dataset,labels,cv=5 ,scoring = metrics)\n",
        "scores = pd.DataFrame(scores).mean()\n",
        "scores"
      ]
    },
    {
      "cell_type": "code",
      "execution_count": 133,
      "metadata": {
        "colab": {
          "base_uri": "https://localhost:8080/"
        },
        "id": "eBy4R1lkrB6D",
        "outputId": "97c6a02d-2c67-4375-b3e2-a92fc68d7749"
      },
      "outputs": [
        {
          "output_type": "execute_result",
          "data": {
            "text/plain": [
              "fit_time          0.006766\n",
              "score_time        0.319358\n",
              "test_accuracy     0.703345\n",
              "test_recall       0.219689\n",
              "test_f1           0.280600\n",
              "test_precision    0.389078\n",
              "dtype: float64"
            ]
          },
          "metadata": {},
          "execution_count": 133
        }
      ],
      "source": [
        "# Try with KNeighborsClassifier\n",
        "model = KNeighborsClassifier()\n",
        "\n",
        "scores = cross_validate(model, train_dataset,labels,cv=5 ,scoring = metrics)\n",
        "scores = pd.DataFrame(scores).mean()\n",
        "scores"
      ]
    },
    {
      "cell_type": "code",
      "source": [
        "# Try with HistGradientBoostingClassifier\n",
        "model= HistGradientBoostingClassifier()\n",
        "\n",
        "scores = cross_validate(model, train_dataset,labels,cv=5 ,scoring = metrics)\n",
        "scores = pd.DataFrame(scores).mean()\n",
        "scores"
      ],
      "metadata": {
        "colab": {
          "base_uri": "https://localhost:8080/"
        },
        "id": "byaNmPog4dJl",
        "outputId": "81ffbbc4-0500-40df-f1f2-e16ecad11ab3"
      },
      "execution_count": 134,
      "outputs": [
        {
          "output_type": "execute_result",
          "data": {
            "text/plain": [
              "fit_time          0.883461\n",
              "score_time        0.022971\n",
              "test_accuracy     0.792183\n",
              "test_recall       0.463552\n",
              "test_f1           0.540094\n",
              "test_precision    0.648872\n",
              "dtype: float64"
            ]
          },
          "metadata": {},
          "execution_count": 134
        }
      ]
    },
    {
      "cell_type": "code",
      "execution_count": 135,
      "metadata": {
        "colab": {
          "base_uri": "https://localhost:8080/"
        },
        "id": "i8O4bth5rB6D",
        "outputId": "d28ea3e2-6bef-41d0-ba7c-caad80d6e698"
      },
      "outputs": [
        {
          "output_type": "execute_result",
          "data": {
            "text/plain": [
              "fit_time          0.011442\n",
              "score_time        0.008318\n",
              "test_accuracy     0.731895\n",
              "test_recall       0.208539\n",
              "test_f1           0.290727\n",
              "test_precision    0.481316\n",
              "dtype: float64"
            ]
          },
          "metadata": {},
          "execution_count": 135
        }
      ],
      "source": [
        "# Try with GaussianNB\n",
        "model = GaussianNB()\n",
        "\n",
        "scores = cross_validate(model, train_dataset,labels,cv=5 ,scoring = metrics)\n",
        "scores = pd.DataFrame(scores).mean()\n",
        "scores"
      ]
    },
    {
      "cell_type": "code",
      "execution_count": 136,
      "metadata": {
        "colab": {
          "base_uri": "https://localhost:8080/"
        },
        "id": "vAPkVR8urB6H",
        "outputId": "84a11f40-62ed-4022-eaa5-5111024a05df"
      },
      "outputs": [
        {
          "output_type": "execute_result",
          "data": {
            "text/plain": [
              "fit_time          0.017142\n",
              "score_time        0.010235\n",
              "test_accuracy     0.787159\n",
              "test_recall       0.358579\n",
              "test_f1           0.470526\n",
              "test_precision    0.685119\n",
              "dtype: float64"
            ]
          },
          "metadata": {},
          "execution_count": 136
        }
      ],
      "source": [
        "model= RidgeClassifier()\n",
        "\n",
        "scores = cross_validate(model, train_dataset,labels,cv=5 ,scoring = metrics)\n",
        "scores = pd.DataFrame(scores).mean()\n",
        "scores"
      ]
    },
    {
      "cell_type": "code",
      "execution_count": 137,
      "metadata": {
        "colab": {
          "base_uri": "https://localhost:8080/"
        },
        "id": "lpGLbxQ_rB6H",
        "outputId": "67b686a4-4078-4136-bb93-adc66b98f028"
      },
      "outputs": [
        {
          "output_type": "stream",
          "name": "stderr",
          "text": [
            "lbfgs failed to converge (status=1):\n",
            "STOP: TOTAL NO. of ITERATIONS REACHED LIMIT.\n",
            "\n",
            "Increase the number of iterations (max_iter) or scale the data as shown in:\n",
            "    https://scikit-learn.org/stable/modules/preprocessing.html\n",
            "Please also refer to the documentation for alternative solver options:\n",
            "    https://scikit-learn.org/stable/modules/linear_model.html#logistic-regression\n"
          ]
        },
        {
          "output_type": "execute_result",
          "data": {
            "text/plain": [
              "fit_time          0.163182\n",
              "score_time        0.010875\n",
              "test_accuracy     0.735449\n",
              "test_recall       0.065478\n",
              "test_f1           0.113060\n",
              "test_precision    0.475950\n",
              "dtype: float64"
            ]
          },
          "metadata": {},
          "execution_count": 137
        }
      ],
      "source": [
        "model = LogisticRegression()\n",
        "\n",
        "scores = cross_validate(model, train_dataset,labels,cv=5 ,scoring = metrics)\n",
        "scores = pd.DataFrame(scores).mean()\n",
        "scores"
      ]
    },
    {
      "cell_type": "markdown",
      "metadata": {
        "id": "yA6rg2njrB6J"
      },
      "source": [
        "# Fitting on the test dataset"
      ]
    },
    {
      "cell_type": "code",
      "source": [
        "model = HistGradientBoostingClassifier()\n",
        "model.fit(train_dataset,labels)"
      ],
      "metadata": {
        "colab": {
          "base_uri": "https://localhost:8080/"
        },
        "id": "cfNYBa0DxNn0",
        "outputId": "4634739e-9b30-4a32-c0d3-12f8dce7eebd"
      },
      "execution_count": 138,
      "outputs": [
        {
          "output_type": "execute_result",
          "data": {
            "text/plain": [
              "HistGradientBoostingClassifier()"
            ]
          },
          "metadata": {},
          "execution_count": 138
        }
      ]
    },
    {
      "cell_type": "code",
      "execution_count": 139,
      "metadata": {
        "colab": {
          "base_uri": "https://localhost:8080/"
        },
        "id": "Iw2iTp0NrB6J",
        "outputId": "7e3e1090-463d-477f-a565-892382b399d3"
      },
      "outputs": [
        {
          "output_type": "execute_result",
          "data": {
            "text/plain": [
              "0.5115544583083116"
            ]
          },
          "metadata": {},
          "execution_count": 139
        }
      ],
      "source": [
        "percentage_of_empty_values= (test_dataset.isna().sum().sum())/test_dataset.size *100\n",
        "percentage_of_empty_values"
      ]
    },
    {
      "cell_type": "code",
      "source": [
        "test_dataset_full = imputer.transform(test_dataset)\n",
        "test_dataset= pd.DataFrame(test_dataset_full,columns=test_dataset.columns)"
      ],
      "metadata": {
        "id": "O-Ox5E8x3pkO"
      },
      "execution_count": 140,
      "outputs": []
    },
    {
      "cell_type": "code",
      "source": [
        "test_labels = model.predict(test_dataset)"
      ],
      "metadata": {
        "id": "RLL7nhYDvFWC"
      },
      "execution_count": 141,
      "outputs": []
    },
    {
      "cell_type": "code",
      "source": [
        "print(100. * test_labels.sum() / test_labels.size)\n",
        "print(100. * labels.sum() / labels.size)"
      ],
      "metadata": {
        "colab": {
          "base_uri": "https://localhost:8080/"
        },
        "id": "1VqwAU6Ty7Ec",
        "outputId": "149e35bc-d9e1-446a-ac32-f0aea947031e"
      },
      "execution_count": 142,
      "outputs": [
        {
          "output_type": "stream",
          "name": "stdout",
          "text": [
            "18.5894441849603\n",
            "26.381570885920844\n"
          ]
        }
      ]
    },
    {
      "cell_type": "markdown",
      "metadata": {
        "id": "D75H1UvwrB6J"
      },
      "source": [
        "# Explicabilité "
      ]
    },
    {
      "cell_type": "code",
      "source": [
        "features = train_dataset.columns\n",
        "features"
      ],
      "metadata": {
        "colab": {
          "base_uri": "https://localhost:8080/"
        },
        "id": "-rTvefVicVQY",
        "outputId": "c3595bee-82a6-4ba6-d8f8-c47323c9710c"
      },
      "execution_count": 143,
      "outputs": [
        {
          "output_type": "execute_result",
          "data": {
            "text/plain": [
              "Index(['KIDSDRIV', 'AGE', 'HOMEKIDS', 'YOJ', 'INCOME', 'PARENT1', 'HOME_VAL',\n",
              "       'MSTATUS', 'TRAVTIME', 'BLUEBOOK', 'TIF', 'RED_CAR', 'OLDCLAIM',\n",
              "       'CLM_FREQ', 'REVOKED', 'MVR_PTS', 'CAR_AGE', 'SEX_F', 'SEX_M',\n",
              "       'EDUCATION_<High School', 'EDUCATION_Bachelors',\n",
              "       'EDUCATION_High School', 'EDUCATION_Masters', 'EDUCATION_PhD',\n",
              "       'JOB_Blue Collar', 'JOB_Clerical', 'JOB_Doctor', 'JOB_Home Maker',\n",
              "       'JOB_Lawyer', 'JOB_Manager', 'JOB_Professional', 'JOB_Student',\n",
              "       'CAR_USE_Commercial', 'CAR_USE_Private', 'CAR_TYPE_Minivan',\n",
              "       'CAR_TYPE_Panel Truck', 'CAR_TYPE_Pickup', 'CAR_TYPE_SUV',\n",
              "       'CAR_TYPE_Sports Car', 'CAR_TYPE_Van', 'URBANICITY_Highly Rural/ Rural',\n",
              "       'URBANICITY_Highly Urban/ Urban'],\n",
              "      dtype='object')"
            ]
          },
          "metadata": {},
          "execution_count": 143
        }
      ]
    },
    {
      "cell_type": "code",
      "execution_count": 144,
      "metadata": {
        "id": "EfsWUvxBrB6L"
      },
      "outputs": [],
      "source": [
        "import shap\n",
        "train = shap.sample(train_dataset,1000)"
      ]
    },
    {
      "cell_type": "code",
      "execution_count": 145,
      "metadata": {
        "colab": {
          "base_uri": "https://localhost:8080/",
          "height": 919
        },
        "id": "ejDgeHsGrB6M",
        "outputId": "ead7232d-b8bc-4f4e-df86-04a3aafed759"
      },
      "outputs": [
        {
          "output_type": "stream",
          "name": "stdout",
          "text": [
            "[[-0.07763275 -0.15255266 -0.01838118 ... -0.00251858  0.41250235\n",
            "   0.02308771]\n",
            " [-0.08001088 -0.22638234  0.00749859 ... -0.00495877  0.35038349\n",
            "   0.02377256]\n",
            " [-0.07847728 -0.11641943  0.0566073  ... -0.01854352  0.46374643\n",
            "   0.0209823 ]\n",
            " ...\n",
            " [-0.10599711  0.09115284 -0.02541631 ... -0.00144273  0.3870777\n",
            "   0.0231925 ]\n",
            " [-0.04324444 -0.02518914  0.00100589 ... -0.0024488   0.33912552\n",
            "   0.03132778]\n",
            " [-0.03874802 -0.26743304 -0.00870532 ... -0.00525625  0.38303942\n",
            "   0.01722451]]\n"
          ]
        },
        {
          "output_type": "display_data",
          "data": {
            "text/plain": [
              "<Figure size 576x684 with 2 Axes>"
            ],
            "image/png": "[encoded data removed]"
          },
          "metadata": {
            "needs_background": "light"
          }
        }
      ],
      "source": [
        "explainer = shap.Explainer(model)\n",
        "\n",
        "shap_values = explainer.shap_values(train)\n",
        "print(shap_values)\n",
        "shap.summary_plot(shap_values, train)\n"
      ]
    },
    {
      "cell_type": "code",
      "source": [
        "#Here we can see the most important features for prediction\n",
        "shap.summary_plot(shap_values, train, feature_names=features, plot_type=\"bar\")"
      ],
      "metadata": {
        "colab": {
          "base_uri": "https://localhost:8080/",
          "height": 693
        },
        "id": "1XNzhzMXb5nr",
        "outputId": "5257ccc4-72cc-4c78-a915-56ebe5daa8c4"
      },
      "execution_count": 146,
      "outputs": [
        {
          "output_type": "display_data",
          "data": {
            "text/plain": [
              "<Figure size 576x684 with 1 Axes>"
            ],
            "image/png": "[encoded data removed]"
          },
          "metadata": {
            "needs_background": "light"
          }
        }
      ]
    }
  ],
  "metadata": {
    "kernelspec": {
      "display_name": "Python 3.8.10 64-bit (windows store)",
      "language": "python",
      "name": "python3"
    },
    "language_info": {
      "codemirror_mode": {
        "name": "ipython",
        "version": 3
      },
      "file_extension": ".py",
      "mimetype": "text/x-python",
      "name": "python",
      "nbconvert_exporter": "python",
      "pygments_lexer": "ipython3",
      "version": "3.8.10"
    },
    "orig_nbformat": 4,
    "vscode": {
      "interpreter": {
        "hash": "5289083c3f5abe312d701549a23d918d5df8d2bf6b85b22b433ed91977547b08"
      }
    },
    "colab": {
      "provenance": [],
      "collapsed_sections": []
    }
  },
  "nbformat": 4,
  "nbformat_minor": 0
}